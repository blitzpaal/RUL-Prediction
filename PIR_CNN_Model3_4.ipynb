{
 "cells": [
  {
   "cell_type": "markdown",
   "metadata": {},
   "source": [
    "# Import dataset"
   ]
  },
  {
   "cell_type": "code",
   "execution_count": 1,
   "metadata": {},
   "outputs": [],
   "source": [
    "#pip install keras-tcn --no-dependencies\n",
    "#pip install tensorflow_addons"
   ]
  },
  {
   "cell_type": "code",
   "execution_count": 2,
   "metadata": {},
   "outputs": [],
   "source": [
    "import pandas as pd\n",
    "import numpy as np\n",
    "import json\n",
    "from pandas.io.json import json_normalize\n",
    "import pickle\n",
    "import matplotlib.pyplot as plt\n",
    "from IPython.display import display\n",
    "%matplotlib inline\n",
    "\n",
    "import keras\n",
    "import tensorflow as tf\n",
    "from keras import backend as K\n",
    "from keras.models import *\n",
    "from keras.layers import *\n",
    "from keras.optimizers import *\n",
    "from keras.initializers import *\n",
    "from tcn import *\n",
    "\n",
    "from datetime import datetime\n",
    "\n",
    "#set folder path\n",
    "folder = 'data'\n",
    "#fd = folder + '/uncorrupted_signal_folder'\n",
    "#fd_km = fd + '/Clusters4096'\n",
    "fd = folder\n",
    "fd_km = fd"
   ]
  },
  {
   "cell_type": "code",
   "execution_count": 3,
   "metadata": {},
   "outputs": [],
   "source": [
    "np.random.seed(1)\n",
    "tf.random.set_seed(1)"
   ]
  },
  {
   "cell_type": "code",
   "execution_count": 4,
   "metadata": {},
   "outputs": [],
   "source": [
    "data_train_df = pd.read_pickle(fd_km + '/data_train_v1').reset_index().iloc[:,1:] #full set\n",
    "data_test_df = pd.read_pickle(fd_km + '/data_test_v1').reset_index().iloc[:,1:]  "
   ]
  },
  {
   "cell_type": "markdown",
   "metadata": {},
   "source": [
    "# Categorise RUL data"
   ]
  },
  {
   "cell_type": "code",
   "execution_count": 5,
   "metadata": {
    "scrolled": true
   },
   "outputs": [
    {
     "name": "stdout",
     "output_type": "stream",
     "text": [
      "count    1.385083e+06\n",
      "mean     3.477047e+04\n",
      "std      2.023644e+04\n",
      "min      0.000000e+00\n",
      "25%      1.731200e+04\n",
      "50%      3.462700e+04\n",
      "75%      5.193900e+04\n",
      "max      8.189600e+04\n",
      "Name: RUL, dtype: float64\n",
      "count     8782.000000\n",
      "mean     45427.648144\n",
      "std      15643.733322\n",
      "min       3964.000000\n",
      "25%      34177.000000\n",
      "50%      46891.000000\n",
      "75%      57867.500000\n",
      "max      79327.000000\n",
      "Name: RUL, dtype: float64\n"
     ]
    }
   ],
   "source": [
    "print(data_train_df.RUL.describe())\n",
    "print(data_test_df.RUL.describe())"
   ]
  },
  {
   "cell_type": "code",
   "execution_count": 6,
   "metadata": {},
   "outputs": [
    {
     "name": "stdout",
     "output_type": "stream",
     "text": [
      "[    0.           221.6066482    886.4265928   1994.4598338\n",
      "  3545.70637119  5540.16620499  7977.83933518 10858.72576177\n",
      " 14182.82548476 17950.13850416 22160.66481994 26814.40443213\n",
      " 31911.35734072 37451.52354571 43434.90304709 49861.49584488\n",
      " 56731.30193906 64044.32132964 71800.55401662 80000.\n",
      " 81896.        ]\n",
      "[0, 1, 2, 3, 4, 5, 6, 7, 8, 9, 10, 11, 12, 13, 14, 15, 16, 17, 18, 19]\n"
     ]
    },
    {
     "data": {
      "image/png": "[encoded data removed]",
      "text/plain": [
       "<Figure size 432x288 with 1 Axes>"
      ]
     },
     "metadata": {
      "needs_background": "light"
     },
     "output_type": "display_data"
    }
   ],
   "source": [
    "l=0.5\n",
    "nb_bins = 20 # including one extra bin for RUL>upper_bin_bound\n",
    "lower_bin_bound = 0\n",
    "upper_bin_bound = 80000\n",
    "\n",
    "bins = np.linspace(lower_bin_bound, upper_bin_bound**l, nb_bins)**(1/l)\n",
    "bins = np.append(bins, data_train_df.RUL.max())\n",
    "\n",
    "labels=[i for i in range(bins.shape[0]-1)]\n",
    "plt.plot(bins,np.full(bins.shape[0],0),'o')\n",
    "print(bins)\n",
    "print(labels)"
   ]
  },
  {
   "cell_type": "code",
   "execution_count": 7,
   "metadata": {},
   "outputs": [],
   "source": [
    "data_train_df['RUL_bin'] = pd.cut(data_train_df['RUL'], bins=bins, labels=labels)\n",
    "data_test_df['RUL_bin'] = pd.cut(data_test_df['RUL'], bins=bins, labels=labels)"
   ]
  },
  {
   "cell_type": "code",
   "execution_count": 8,
   "metadata": {},
   "outputs": [],
   "source": [
    "data_train_df['RUL_bin'] = pd.cut(data_train_df['RUL'], bins=bins, labels=labels)\n",
    "data_test_df['RUL_bin'] = pd.cut(data_test_df['RUL'], bins=bins, labels=labels)"
   ]
  },
  {
   "cell_type": "code",
   "execution_count": 9,
   "metadata": {},
   "outputs": [
    {
     "data": {
      "text/html": [
       "<div>\n",
       "<style scoped>\n",
       "    .dataframe tbody tr th:only-of-type {\n",
       "        vertical-align: middle;\n",
       "    }\n",
       "\n",
       "    .dataframe tbody tr th {\n",
       "        vertical-align: top;\n",
       "    }\n",
       "\n",
       "    .dataframe thead th {\n",
       "        text-align: right;\n",
       "    }\n",
       "</style>\n",
       "<table border=\"1\" class=\"dataframe\">\n",
       "  <thead>\n",
       "    <tr style=\"text-align: right;\">\n",
       "      <th></th>\n",
       "      <th>ID</th>\n",
       "      <th>cycle</th>\n",
       "      <th>gauge1</th>\n",
       "      <th>gauge2</th>\n",
       "      <th>gauge3</th>\n",
       "      <th>RUL</th>\n",
       "      <th>RUL_bin</th>\n",
       "    </tr>\n",
       "  </thead>\n",
       "  <tbody>\n",
       "    <tr>\n",
       "      <th>0</th>\n",
       "      <td>1</td>\n",
       "      <td>0</td>\n",
       "      <td>0.000684</td>\n",
       "      <td>0.000693</td>\n",
       "      <td>0.000695</td>\n",
       "      <td>68053</td>\n",
       "      <td>17</td>\n",
       "    </tr>\n",
       "    <tr>\n",
       "      <th>1</th>\n",
       "      <td>1</td>\n",
       "      <td>500</td>\n",
       "      <td>0.000684</td>\n",
       "      <td>0.000693</td>\n",
       "      <td>0.000695</td>\n",
       "      <td>67553</td>\n",
       "      <td>17</td>\n",
       "    </tr>\n",
       "    <tr>\n",
       "      <th>2</th>\n",
       "      <td>1</td>\n",
       "      <td>1000</td>\n",
       "      <td>0.000684</td>\n",
       "      <td>0.000693</td>\n",
       "      <td>0.000695</td>\n",
       "      <td>67053</td>\n",
       "      <td>17</td>\n",
       "    </tr>\n",
       "    <tr>\n",
       "      <th>3</th>\n",
       "      <td>1</td>\n",
       "      <td>1500</td>\n",
       "      <td>0.000684</td>\n",
       "      <td>0.000693</td>\n",
       "      <td>0.000695</td>\n",
       "      <td>66553</td>\n",
       "      <td>17</td>\n",
       "    </tr>\n",
       "    <tr>\n",
       "      <th>4</th>\n",
       "      <td>1</td>\n",
       "      <td>2000</td>\n",
       "      <td>0.000684</td>\n",
       "      <td>0.000693</td>\n",
       "      <td>0.000695</td>\n",
       "      <td>66053</td>\n",
       "      <td>17</td>\n",
       "    </tr>\n",
       "    <tr>\n",
       "      <th>...</th>\n",
       "      <td>...</td>\n",
       "      <td>...</td>\n",
       "      <td>...</td>\n",
       "      <td>...</td>\n",
       "      <td>...</td>\n",
       "      <td>...</td>\n",
       "      <td>...</td>\n",
       "    </tr>\n",
       "    <tr>\n",
       "      <th>1385078</th>\n",
       "      <td>10000</td>\n",
       "      <td>66500</td>\n",
       "      <td>0.000118</td>\n",
       "      <td>0.000253</td>\n",
       "      <td>0.000761</td>\n",
       "      <td>2393</td>\n",
       "      <td>3</td>\n",
       "    </tr>\n",
       "    <tr>\n",
       "      <th>1385079</th>\n",
       "      <td>10000</td>\n",
       "      <td>67000</td>\n",
       "      <td>0.000097</td>\n",
       "      <td>0.000186</td>\n",
       "      <td>0.000755</td>\n",
       "      <td>1893</td>\n",
       "      <td>2</td>\n",
       "    </tr>\n",
       "    <tr>\n",
       "      <th>1385080</th>\n",
       "      <td>10000</td>\n",
       "      <td>67500</td>\n",
       "      <td>0.000078</td>\n",
       "      <td>0.000113</td>\n",
       "      <td>0.000743</td>\n",
       "      <td>1393</td>\n",
       "      <td>2</td>\n",
       "    </tr>\n",
       "    <tr>\n",
       "      <th>1385081</th>\n",
       "      <td>10000</td>\n",
       "      <td>68000</td>\n",
       "      <td>0.000060</td>\n",
       "      <td>0.000037</td>\n",
       "      <td>0.000718</td>\n",
       "      <td>893</td>\n",
       "      <td>2</td>\n",
       "    </tr>\n",
       "    <tr>\n",
       "      <th>1385082</th>\n",
       "      <td>10000</td>\n",
       "      <td>68500</td>\n",
       "      <td>0.000044</td>\n",
       "      <td>-0.000037</td>\n",
       "      <td>0.000673</td>\n",
       "      <td>393</td>\n",
       "      <td>1</td>\n",
       "    </tr>\n",
       "  </tbody>\n",
       "</table>\n",
       "<p>1385083 rows × 7 columns</p>\n",
       "</div>"
      ],
      "text/plain": [
       "            ID  cycle    gauge1    gauge2    gauge3    RUL RUL_bin\n",
       "0            1      0  0.000684  0.000693  0.000695  68053      17\n",
       "1            1    500  0.000684  0.000693  0.000695  67553      17\n",
       "2            1   1000  0.000684  0.000693  0.000695  67053      17\n",
       "3            1   1500  0.000684  0.000693  0.000695  66553      17\n",
       "4            1   2000  0.000684  0.000693  0.000695  66053      17\n",
       "...        ...    ...       ...       ...       ...    ...     ...\n",
       "1385078  10000  66500  0.000118  0.000253  0.000761   2393       3\n",
       "1385079  10000  67000  0.000097  0.000186  0.000755   1893       2\n",
       "1385080  10000  67500  0.000078  0.000113  0.000743   1393       2\n",
       "1385081  10000  68000  0.000060  0.000037  0.000718    893       2\n",
       "1385082  10000  68500  0.000044 -0.000037  0.000673    393       1\n",
       "\n",
       "[1385083 rows x 7 columns]"
      ]
     },
     "metadata": {},
     "output_type": "display_data"
    },
    {
     "data": {
      "text/html": [
       "<div>\n",
       "<style scoped>\n",
       "    .dataframe tbody tr th:only-of-type {\n",
       "        vertical-align: middle;\n",
       "    }\n",
       "\n",
       "    .dataframe tbody tr th {\n",
       "        vertical-align: top;\n",
       "    }\n",
       "\n",
       "    .dataframe thead th {\n",
       "        text-align: right;\n",
       "    }\n",
       "</style>\n",
       "<table border=\"1\" class=\"dataframe\">\n",
       "  <thead>\n",
       "    <tr style=\"text-align: right;\">\n",
       "      <th></th>\n",
       "      <th>ID</th>\n",
       "      <th>cycle</th>\n",
       "      <th>gauge1</th>\n",
       "      <th>gauge2</th>\n",
       "      <th>gauge3</th>\n",
       "      <th>RUL</th>\n",
       "      <th>RUL_bin</th>\n",
       "    </tr>\n",
       "  </thead>\n",
       "  <tbody>\n",
       "    <tr>\n",
       "      <th>0</th>\n",
       "      <td>1</td>\n",
       "      <td>0</td>\n",
       "      <td>0.000684</td>\n",
       "      <td>0.000693</td>\n",
       "      <td>0.000695</td>\n",
       "      <td>64540</td>\n",
       "      <td>17</td>\n",
       "    </tr>\n",
       "    <tr>\n",
       "      <th>1</th>\n",
       "      <td>1</td>\n",
       "      <td>500</td>\n",
       "      <td>0.000684</td>\n",
       "      <td>0.000693</td>\n",
       "      <td>0.000695</td>\n",
       "      <td>64040</td>\n",
       "      <td>16</td>\n",
       "    </tr>\n",
       "    <tr>\n",
       "      <th>2</th>\n",
       "      <td>1</td>\n",
       "      <td>1000</td>\n",
       "      <td>0.000684</td>\n",
       "      <td>0.000693</td>\n",
       "      <td>0.000695</td>\n",
       "      <td>63540</td>\n",
       "      <td>16</td>\n",
       "    </tr>\n",
       "    <tr>\n",
       "      <th>3</th>\n",
       "      <td>1</td>\n",
       "      <td>1500</td>\n",
       "      <td>0.000684</td>\n",
       "      <td>0.000693</td>\n",
       "      <td>0.000695</td>\n",
       "      <td>63040</td>\n",
       "      <td>16</td>\n",
       "    </tr>\n",
       "    <tr>\n",
       "      <th>4</th>\n",
       "      <td>1</td>\n",
       "      <td>2000</td>\n",
       "      <td>0.000684</td>\n",
       "      <td>0.000693</td>\n",
       "      <td>0.000695</td>\n",
       "      <td>62540</td>\n",
       "      <td>16</td>\n",
       "    </tr>\n",
       "    <tr>\n",
       "      <th>...</th>\n",
       "      <td>...</td>\n",
       "      <td>...</td>\n",
       "      <td>...</td>\n",
       "      <td>...</td>\n",
       "      <td>...</td>\n",
       "      <td>...</td>\n",
       "      <td>...</td>\n",
       "    </tr>\n",
       "    <tr>\n",
       "      <th>8777</th>\n",
       "      <td>100</td>\n",
       "      <td>22000</td>\n",
       "      <td>0.000670</td>\n",
       "      <td>0.000691</td>\n",
       "      <td>0.000696</td>\n",
       "      <td>43346</td>\n",
       "      <td>13</td>\n",
       "    </tr>\n",
       "    <tr>\n",
       "      <th>8778</th>\n",
       "      <td>100</td>\n",
       "      <td>22500</td>\n",
       "      <td>0.000670</td>\n",
       "      <td>0.000691</td>\n",
       "      <td>0.000696</td>\n",
       "      <td>42846</td>\n",
       "      <td>13</td>\n",
       "    </tr>\n",
       "    <tr>\n",
       "      <th>8779</th>\n",
       "      <td>100</td>\n",
       "      <td>23000</td>\n",
       "      <td>0.000669</td>\n",
       "      <td>0.000691</td>\n",
       "      <td>0.000696</td>\n",
       "      <td>42346</td>\n",
       "      <td>13</td>\n",
       "    </tr>\n",
       "    <tr>\n",
       "      <th>8780</th>\n",
       "      <td>100</td>\n",
       "      <td>23500</td>\n",
       "      <td>0.000669</td>\n",
       "      <td>0.000691</td>\n",
       "      <td>0.000696</td>\n",
       "      <td>41846</td>\n",
       "      <td>13</td>\n",
       "    </tr>\n",
       "    <tr>\n",
       "      <th>8781</th>\n",
       "      <td>100</td>\n",
       "      <td>24000</td>\n",
       "      <td>0.000668</td>\n",
       "      <td>0.000691</td>\n",
       "      <td>0.000696</td>\n",
       "      <td>41346</td>\n",
       "      <td>13</td>\n",
       "    </tr>\n",
       "  </tbody>\n",
       "</table>\n",
       "<p>8782 rows × 7 columns</p>\n",
       "</div>"
      ],
      "text/plain": [
       "       ID  cycle    gauge1    gauge2    gauge3    RUL RUL_bin\n",
       "0       1      0  0.000684  0.000693  0.000695  64540      17\n",
       "1       1    500  0.000684  0.000693  0.000695  64040      16\n",
       "2       1   1000  0.000684  0.000693  0.000695  63540      16\n",
       "3       1   1500  0.000684  0.000693  0.000695  63040      16\n",
       "4       1   2000  0.000684  0.000693  0.000695  62540      16\n",
       "...   ...    ...       ...       ...       ...    ...     ...\n",
       "8777  100  22000  0.000670  0.000691  0.000696  43346      13\n",
       "8778  100  22500  0.000670  0.000691  0.000696  42846      13\n",
       "8779  100  23000  0.000669  0.000691  0.000696  42346      13\n",
       "8780  100  23500  0.000669  0.000691  0.000696  41846      13\n",
       "8781  100  24000  0.000668  0.000691  0.000696  41346      13\n",
       "\n",
       "[8782 rows x 7 columns]"
      ]
     },
     "metadata": {},
     "output_type": "display_data"
    }
   ],
   "source": [
    "display(data_train_df)\n",
    "display(data_test_df) "
   ]
  },
  {
   "cell_type": "markdown",
   "metadata": {},
   "source": [
    "# Build sequences"
   ]
  },
  {
   "cell_type": "code",
   "execution_count": 139,
   "metadata": {
    "scrolled": false
   },
   "outputs": [
    {
     "name": "stdout",
     "output_type": "stream",
     "text": [
      "(10956, 30, 3)\n",
      "(10956,)\n",
      "(10937, 30, 3)\n",
      "(10937,)\n"
     ]
    }
   ],
   "source": [
    "#utils \n",
    "nb_gauges = 3\n",
    "data_train = data_train_df[data_train_df.ID <= 100]\n",
    "data_val = data_train_df[data_train_df.ID > 9900]\n",
    "\n",
    "#prepare forecasting data\n",
    "def gen_X_sequence(id_df, seq_length, seq_cols, timesteps_pred, type_data = None):\n",
    "    \"\"\" Only sequences that meet the window-length are considered, no padding is used. This means for testing\n",
    "    we need to drop those which are below the window-length. An alternative would be to pad sequences so that\n",
    "    we can use shorter ones \"\"\"\n",
    "    \n",
    "    \n",
    "    ind_start = 0\n",
    "    \n",
    "    data_array = id_df[seq_cols].values\n",
    "    num_elements = data_array.shape[0]\n",
    "    for start, stop in zip(range(0+ind_start, num_elements-seq_length+1-timesteps_pred), range(seq_length+ind_start, num_elements+1-timesteps_pred)):\n",
    "        yield data_array[start:stop, :]\n",
    " \n",
    "\n",
    "def gen_Y_sequence(id_df, seq_length, seq_cols,timesteps_pred, type_data = None):\n",
    "    \"\"\" Only sequences that meet the window-length are considered, no padding is used. This means for testing\n",
    "    we need to drop those which are below the window-length. An alternative would be to pad sequences so that\n",
    "    we can use shorter ones \"\"\"\n",
    "    \n",
    "    \n",
    "    ind_start = 0\n",
    "    \n",
    "    data_array = id_df[seq_cols].values\n",
    "    num_elements = data_array.shape[0]\n",
    "    for start, stop in zip(range(0+ind_start, num_elements-seq_length+1-timesteps_pred), range(seq_length+ind_start, num_elements+1-timesteps_pred)):\n",
    "        yield data_array[stop-1, :]#data_array[start+1:stop+1, :]\n",
    "   \n",
    "\n",
    "\n",
    "\n",
    " #prepare data\n",
    "seq_cols =  ['gauge'+str(i) for i in range(1,4)]#['label'+str(i) for i in range(1,4)]\n",
    "seq_cols1 =  ['RUL_bin']\n",
    "sequence_length = 30\n",
    "timesteps_pred = 1\n",
    "\n",
    "\n",
    "\n",
    "#training set\n",
    "seq_gen = (list(gen_X_sequence(data_train[data_train['ID']==id], sequence_length, seq_cols, timesteps_pred, type_data= 'train')) \n",
    "                   for id in data_train['ID'].unique())\n",
    "# generate sequences and convert to numpy array\n",
    "dbX = np.concatenate(list(seq_gen))\n",
    "\n",
    "\n",
    "\n",
    "seq_gen = (list(gen_Y_sequence(data_train[data_train['ID']==id], sequence_length, seq_cols1, timesteps_pred, type_data= 'train')) \n",
    "                   for id in data_train['ID'].unique())\n",
    "# generate sequences and convert to numpy array\n",
    "dbY = np.concatenate(list(seq_gen)).reshape(-1,)\n",
    "\n",
    "# add one dimension\n",
    "# dbX = dbX[..., np.newaxis]\n",
    "\n",
    "print(dbX.shape)\n",
    "print(dbY.shape)\n",
    "\n",
    "#test set\n",
    "seq_gen = (list(gen_X_sequence(data_val[data_val['ID']==id], sequence_length, seq_cols, timesteps_pred, type_data= 'train')) \n",
    "                   for id in data_val['ID'].unique())\n",
    "# generate sequences and convert to numpy array\n",
    "dbX_val = np.concatenate(list(seq_gen))\n",
    "\n",
    "seq_gen = (list(gen_Y_sequence(data_val[data_val['ID']==id], sequence_length, seq_cols1, timesteps_pred, type_data= 'train')) \n",
    "                   for id in data_val['ID'].unique())\n",
    "# generate sequences and convert to numpy array\n",
    "dbY_val = np.concatenate(list(seq_gen)).reshape(-1,)\n",
    "\n",
    "# add one dimension\n",
    "# dbX_val = dbX_val[..., np.newaxis]\n",
    "\n",
    "# dbX_val = (dbX_val + 1)/2\n",
    "# dbY_val = (dbY_val + 1)/2\n",
    "print(dbX_val.shape)\n",
    "print(dbY_val.shape)"
   ]
  },
  {
   "cell_type": "markdown",
   "metadata": {},
   "source": [
    "# Build model"
   ]
  },
  {
   "cell_type": "code",
   "execution_count": 226,
   "metadata": {
    "scrolled": true
   },
   "outputs": [],
   "source": [
    "input_layer = Input(shape=(dbX.shape[1], dbX.shape[2]))\n",
    "x = TCN(nb_filters=20, kernel_size=6, nb_stacks=1, dilations=[2 ** i for i in range(6)], padding='causal',\n",
    "            use_skip_connections=True, dropout_rate=0.0, return_sequences=False,\n",
    "            activation='relu', kernel_initializer='he_normal', use_batch_norm=False, use_layer_norm=False,\n",
    "            use_weight_norm=True, name='TCN')(input_layer)\n",
    "x = Dense(nb_bins)(x)\n",
    "x = Activation('softmax')(x)\n",
    "output_layer = x\n",
    "model = Model(input_layer, output_layer)"
   ]
  },
  {
   "cell_type": "code",
   "execution_count": 227,
   "metadata": {},
   "outputs": [],
   "source": [
    "opt = Adam(learning_rate=0.001)\n",
    "model.compile(loss='sparse_categorical_crossentropy', optimizer=opt, metrics=['accuracy'])"
   ]
  },
  {
   "cell_type": "code",
   "execution_count": 228,
   "metadata": {
    "scrolled": true
   },
   "outputs": [
    {
     "name": "stdout",
     "output_type": "stream",
     "text": [
      "Model: \"functional_57\"\n",
      "_________________________________________________________________\n",
      "Layer (type)                 Output Shape              Param #   \n",
      "=================================================================\n",
      "input_29 (InputLayer)        [(None, 30, 3)]           0         \n",
      "_________________________________________________________________\n",
      "TCN (TCN)                    (None, 20)                54332     \n",
      "_________________________________________________________________\n",
      "dense_28 (Dense)             (None, 20)                420       \n",
      "_________________________________________________________________\n",
      "activation_28 (Activation)   (None, 20)                0         \n",
      "=================================================================\n",
      "Total params: 54,752\n",
      "Trainable params: 27,740\n",
      "Non-trainable params: 27,012\n",
      "_________________________________________________________________\n"
     ]
    }
   ],
   "source": [
    "model.summary()"
   ]
  },
  {
   "cell_type": "code",
   "execution_count": 229,
   "metadata": {
    "scrolled": true
   },
   "outputs": [
    {
     "name": "stdout",
     "output_type": "stream",
     "text": [
      "Epoch 1/50\n",
      "343/343 - 10s - loss: 1.5256 - accuracy: 0.4090 - val_loss: 1.1320 - val_accuracy: 0.4808\n",
      "Epoch 2/50\n",
      "343/343 - 8s - loss: 0.9868 - accuracy: 0.5638 - val_loss: 1.1510 - val_accuracy: 0.4831\n",
      "Epoch 3/50\n",
      "343/343 - 8s - loss: 0.8744 - accuracy: 0.6124 - val_loss: 1.6720 - val_accuracy: 0.3601\n",
      "Epoch 4/50\n",
      "343/343 - 8s - loss: 0.8313 - accuracy: 0.6296 - val_loss: 0.9040 - val_accuracy: 0.5937\n",
      "Epoch 5/50\n",
      "343/343 - 8s - loss: 0.8060 - accuracy: 0.6376 - val_loss: 0.8655 - val_accuracy: 0.6157\n",
      "Epoch 6/50\n",
      "343/343 - 8s - loss: 0.7853 - accuracy: 0.6548 - val_loss: 0.7961 - val_accuracy: 0.6366\n",
      "Epoch 7/50\n",
      "343/343 - 8s - loss: 0.7731 - accuracy: 0.6596 - val_loss: 0.9206 - val_accuracy: 0.5750\n",
      "Epoch 8/50\n",
      "343/343 - 8s - loss: 0.7449 - accuracy: 0.6643 - val_loss: 1.2776 - val_accuracy: 0.5008\n",
      "Epoch 9/50\n",
      "343/343 - 8s - loss: 0.7265 - accuracy: 0.6775 - val_loss: 1.1101 - val_accuracy: 0.5256\n",
      "Epoch 10/50\n",
      "343/343 - 8s - loss: 0.6984 - accuracy: 0.6879 - val_loss: 0.6993 - val_accuracy: 0.6807\n",
      "Epoch 11/50\n",
      "343/343 - 9s - loss: 0.6975 - accuracy: 0.6931 - val_loss: 0.7761 - val_accuracy: 0.6567\n",
      "Epoch 12/50\n",
      "343/343 - 10s - loss: 0.6580 - accuracy: 0.7086 - val_loss: 0.7882 - val_accuracy: 0.6587\n",
      "Epoch 13/50\n",
      "343/343 - 10s - loss: 0.6796 - accuracy: 0.6940 - val_loss: 0.7857 - val_accuracy: 0.6577\n",
      "Epoch 14/50\n",
      "343/343 - 10s - loss: 0.6778 - accuracy: 0.6971 - val_loss: 0.7533 - val_accuracy: 0.6645\n",
      "Epoch 15/50\n",
      "343/343 - 10s - loss: 0.6552 - accuracy: 0.7126 - val_loss: 0.6955 - val_accuracy: 0.6898\n",
      "Epoch 16/50\n",
      "343/343 - 9s - loss: 0.6473 - accuracy: 0.7074 - val_loss: 0.7134 - val_accuracy: 0.6870\n",
      "Epoch 17/50\n",
      "343/343 - 9s - loss: 0.6510 - accuracy: 0.7072 - val_loss: 0.7611 - val_accuracy: 0.6561\n",
      "Epoch 18/50\n",
      "343/343 - 10s - loss: 0.6266 - accuracy: 0.7216 - val_loss: 0.6505 - val_accuracy: 0.7145\n",
      "Epoch 19/50\n",
      "343/343 - 9s - loss: 0.6001 - accuracy: 0.7320 - val_loss: 0.7618 - val_accuracy: 0.6564\n",
      "Epoch 20/50\n",
      "343/343 - 10s - loss: 0.6110 - accuracy: 0.7258 - val_loss: 0.6230 - val_accuracy: 0.7294\n",
      "Epoch 21/50\n",
      "343/343 - 9s - loss: 0.6148 - accuracy: 0.7312 - val_loss: 0.8106 - val_accuracy: 0.6591\n",
      "Epoch 22/50\n",
      "343/343 - 10s - loss: 0.6428 - accuracy: 0.7108 - val_loss: 0.6501 - val_accuracy: 0.7075\n",
      "Epoch 23/50\n",
      "343/343 - 10s - loss: 0.6177 - accuracy: 0.7268 - val_loss: 0.6802 - val_accuracy: 0.6996\n",
      "Epoch 24/50\n",
      "343/343 - 11s - loss: 0.6193 - accuracy: 0.7227 - val_loss: 0.7538 - val_accuracy: 0.6606\n",
      "Epoch 25/50\n",
      "343/343 - 11s - loss: 0.6133 - accuracy: 0.7232 - val_loss: 0.6868 - val_accuracy: 0.6983\n",
      "Epoch 26/50\n",
      "343/343 - 10s - loss: 0.5844 - accuracy: 0.7383 - val_loss: 0.6293 - val_accuracy: 0.7081\n",
      "Epoch 27/50\n",
      "343/343 - 9s - loss: 0.5910 - accuracy: 0.7353 - val_loss: 0.6349 - val_accuracy: 0.7132\n",
      "Epoch 28/50\n",
      "343/343 - 10s - loss: 0.5693 - accuracy: 0.7402 - val_loss: 0.7817 - val_accuracy: 0.6556\n",
      "Epoch 29/50\n",
      "343/343 - 10s - loss: 0.5879 - accuracy: 0.7412 - val_loss: 0.6369 - val_accuracy: 0.7145\n",
      "Epoch 30/50\n",
      "343/343 - 9s - loss: 0.5791 - accuracy: 0.7399 - val_loss: 0.6192 - val_accuracy: 0.7217\n",
      "Epoch 31/50\n",
      "343/343 - 9s - loss: 0.5971 - accuracy: 0.7309 - val_loss: 0.6565 - val_accuracy: 0.7073\n",
      "Epoch 32/50\n",
      "343/343 - 9s - loss: 0.5846 - accuracy: 0.7410 - val_loss: 0.6344 - val_accuracy: 0.7104\n",
      "Epoch 33/50\n",
      "343/343 - 11s - loss: 0.5891 - accuracy: 0.7351 - val_loss: 0.6751 - val_accuracy: 0.7051\n",
      "Epoch 34/50\n",
      "343/343 - 10s - loss: 0.5850 - accuracy: 0.7384 - val_loss: 0.6022 - val_accuracy: 0.7371\n",
      "Epoch 35/50\n",
      "343/343 - 9s - loss: 0.5631 - accuracy: 0.7441 - val_loss: 0.6089 - val_accuracy: 0.7199\n",
      "Epoch 36/50\n",
      "343/343 - 9s - loss: 0.5588 - accuracy: 0.7463 - val_loss: 0.6067 - val_accuracy: 0.7305\n",
      "Epoch 37/50\n",
      "343/343 - 9s - loss: 0.5602 - accuracy: 0.7540 - val_loss: 0.7050 - val_accuracy: 0.6914\n",
      "Epoch 38/50\n",
      "343/343 - 10s - loss: 0.5571 - accuracy: 0.7492 - val_loss: 0.5804 - val_accuracy: 0.7491\n",
      "Epoch 39/50\n",
      "343/343 - 9s - loss: 0.5748 - accuracy: 0.7414 - val_loss: 0.6665 - val_accuracy: 0.7068\n",
      "Epoch 40/50\n",
      "343/343 - 9s - loss: 0.6109 - accuracy: 0.7300 - val_loss: 0.5913 - val_accuracy: 0.7390\n",
      "Epoch 41/50\n",
      "343/343 - 10s - loss: 0.5470 - accuracy: 0.7579 - val_loss: 0.5992 - val_accuracy: 0.7325\n",
      "Epoch 42/50\n",
      "343/343 - 10s - loss: 0.5690 - accuracy: 0.7467 - val_loss: 0.6262 - val_accuracy: 0.7211\n",
      "Epoch 43/50\n",
      "343/343 - 9s - loss: 0.5418 - accuracy: 0.7541 - val_loss: 0.7382 - val_accuracy: 0.6792\n",
      "Epoch 44/50\n",
      "343/343 - 10s - loss: 0.5607 - accuracy: 0.7487 - val_loss: 0.5914 - val_accuracy: 0.7382\n",
      "Epoch 45/50\n",
      "343/343 - 9s - loss: 0.5452 - accuracy: 0.7569 - val_loss: 0.8384 - val_accuracy: 0.6652\n",
      "Epoch 46/50\n",
      "343/343 - 9s - loss: 0.5500 - accuracy: 0.7530 - val_loss: 0.7232 - val_accuracy: 0.6818\n",
      "Epoch 47/50\n",
      "343/343 - 10s - loss: 0.5558 - accuracy: 0.7504 - val_loss: 0.7087 - val_accuracy: 0.6890\n",
      "Epoch 48/50\n",
      "343/343 - 10s - loss: 0.5383 - accuracy: 0.7615 - val_loss: 0.6014 - val_accuracy: 0.7316\n",
      "Epoch 49/50\n",
      "343/343 - 11s - loss: 0.5409 - accuracy: 0.7586 - val_loss: 0.5572 - val_accuracy: 0.7537\n",
      "Epoch 50/50\n",
      "343/343 - 9s - loss: 0.5293 - accuracy: 0.7651 - val_loss: 0.5655 - val_accuracy: 0.7476\n"
     ]
    }
   ],
   "source": [
    "dateTimeObj = datetime.now()\n",
    "timestampStr = dateTimeObj.strftime(\"%d%m%Y%H%M%S\")\n",
    "\n",
    "# save initial weights\n",
    "model.save_weights('models/PIR_CNN_Model3_4_weights.h5')\n",
    "\n",
    "model_path = 'models/PIR_CNN_Model3_4.h5'\n",
    "es = keras.callbacks.EarlyStopping(monitor='accuracy', min_delta=0, patience=50, verbose=0, mode='min')\n",
    "mc = keras.callbacks.ModelCheckpoint(model_path, monitor='accuracy', mode='min', save_best_only=True)\n",
    "\n",
    "#for batch_size in [32, 64, 128]:\n",
    "model.load_weights('models/PIR_CNN_Model3_4_weights.h5')\n",
    "#K.set_value(model.optimizer.learning_rate, l_r)\n",
    "history = model.fit(dbX, dbY, epochs=50, batch_size=32,\n",
    "        validation_data=(dbX_val, dbY_val), verbose=2, callbacks = [es,mc])\n",
    "\n",
    "np.save('models/PIR_CNN_Model3_4_' + timestampStr, history.history)\n",
    "\n",
    "# get model as json string and save to file\n",
    "model_as_json = model.to_json()\n",
    "with open('models/PIR_CNN_Model3_4_' + timestampStr + '.json', \"w\") as json_file:\n",
    "    json_file.write(model_as_json)\n",
    "# save weights to file\n",
    "model.save_weights('models/PIR_CNN_Model3_4_weights_' + timestampStr + '.h5')"
   ]
  },
  {
   "cell_type": "code",
   "execution_count": 230,
   "metadata": {
    "scrolled": true
   },
   "outputs": [
    {
     "name": "stdout",
     "output_type": "stream",
     "text": [
      "342/342 [==============================] - 2s 6ms/step - loss: 0.5655 - accuracy: 0.7476\n"
     ]
    },
    {
     "data": {
      "text/plain": [
       "[0.5655423402786255, 0.7475541830062866]"
      ]
     },
     "execution_count": 230,
     "metadata": {},
     "output_type": "execute_result"
    }
   ],
   "source": [
    "model.evaluate(dbX_val, dbY_val)"
   ]
  },
  {
   "cell_type": "code",
   "execution_count": 231,
   "metadata": {},
   "outputs": [
    {
     "data": {
      "image/png": "[encoded data removed]",
      "text/plain": [
       "<Figure size 432x288 with 1 Axes>"
      ]
     },
     "metadata": {
      "needs_background": "light"
     },
     "output_type": "display_data"
    },
    {
     "data": {
      "image/png": "[encoded data removed]",
      "text/plain": [
       "<Figure size 432x288 with 1 Axes>"
      ]
     },
     "metadata": {
      "needs_background": "light"
     },
     "output_type": "display_data"
    }
   ],
   "source": [
    "# Load history\n",
    "#history.history = np.load('models/PIR_CNN_Model3_4_history_03052021151357.npy', allow_pickle=True).item()\n",
    "\n",
    "# summarize history for accuracy\n",
    "plt.plot(history.history['accuracy'])\n",
    "plt.plot(history.history['val_accuracy'])\n",
    "plt.title('model accuracy')\n",
    "plt.ylabel('accuracy')\n",
    "plt.xlabel('epoch')\n",
    "plt.legend(['train', 'test'], loc='upper left')\n",
    "plt.show()\n",
    "# summarize history for loss\n",
    "plt.plot(history.history['loss'])\n",
    "plt.plot(history.history['val_loss'])\n",
    "plt.title('model loss')\n",
    "plt.ylabel('loss')\n",
    "plt.xlabel('epoch')\n",
    "plt.legend(['train', 'test'], loc='upper left')\n",
    "plt.show()"
   ]
  },
  {
   "cell_type": "code",
   "execution_count": 232,
   "metadata": {},
   "outputs": [
    {
     "name": "stdout",
     "output_type": "stream",
     "text": [
      "Minimum val_loss: 0.5572434663772583\n",
      "Maximum val_accuracy: 0.7536801695823669\n"
     ]
    }
   ],
   "source": [
    "print('Minimum val_loss: ' + str(np.min(history.history['val_loss'])))\n",
    "print('Maximum val_accuracy: ' + str(np.max(history.history['val_accuracy'])))"
   ]
  },
  {
   "cell_type": "code",
   "execution_count": null,
   "metadata": {},
   "outputs": [],
   "source": []
  }
 ],
 "metadata": {
  "kernelspec": {
   "display_name": "Python 3",
   "language": "python",
   "name": "python3"
  },
  "language_info": {
   "codemirror_mode": {
    "name": "ipython",
    "version": 3
   },
   "file_extension": ".py",
   "mimetype": "text/x-python",
   "name": "python",
   "nbconvert_exporter": "python",
   "pygments_lexer": "ipython3",
   "version": "3.8.8"
  },
  "toc": {
   "base_numbering": 1,
   "nav_menu": {},
   "number_sections": true,
   "sideBar": true,
   "skip_h1_title": false,
   "title_cell": "Table of Contents",
   "title_sidebar": "Contents",
   "toc_cell": false,
   "toc_position": {},
   "toc_section_display": true,
   "toc_window_display": false
  }
 },
 "nbformat": 4,
 "nbformat_minor": 4
}
