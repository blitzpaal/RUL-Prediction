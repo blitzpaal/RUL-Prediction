{
 "cells": [
  {
   "cell_type": "markdown",
   "metadata": {},
   "source": [
    "# Import dataset"
   ]
  },
  {
   "cell_type": "code",
   "execution_count": 1,
   "metadata": {},
   "outputs": [],
   "source": [
    "#pip install keras-tcn --no-dependencies\n",
    "#pip install tensorflow_addons"
   ]
  },
  {
   "cell_type": "code",
   "execution_count": 2,
   "metadata": {},
   "outputs": [],
   "source": [
    "import pandas as pd\n",
    "import numpy as np\n",
    "import json\n",
    "from pandas.io.json import json_normalize\n",
    "import pickle\n",
    "import matplotlib.pyplot as plt\n",
    "from IPython.display import display\n",
    "%matplotlib inline\n",
    "\n",
    "import keras\n",
    "import tensorflow as tf\n",
    "from keras import backend as K\n",
    "from keras.models import *\n",
    "from keras.layers import *\n",
    "from keras.optimizers import *\n",
    "from keras.initializers import *\n",
    "from tcn import *\n",
    "\n",
    "from datetime import datetime\n",
    "\n",
    "#set folder path\n",
    "folder = 'data'\n",
    "#fd = folder + '/uncorrupted_signal_folder'\n",
    "#fd_km = fd + '/Clusters4096'\n",
    "fd = folder\n",
    "fd_km = fd"
   ]
  },
  {
   "cell_type": "code",
   "execution_count": 3,
   "metadata": {},
   "outputs": [],
   "source": [
    "# set random seed\n",
    "np.random.seed(1)\n",
    "tf.random.set_seed(1)"
   ]
  },
  {
   "cell_type": "code",
   "execution_count": 4,
   "metadata": {},
   "outputs": [],
   "source": [
    "# import data\n",
    "data_train_df = pd.read_pickle(fd_km + '/data_train_v1').reset_index().iloc[:,1:] #full set\n",
    "data_test_df = pd.read_pickle(fd_km + '/data_test_v1').reset_index().iloc[:,1:]  "
   ]
  },
  {
   "cell_type": "markdown",
   "metadata": {},
   "source": [
    "# Categorise RUL data"
   ]
  },
  {
   "cell_type": "code",
   "execution_count": 5,
   "metadata": {
    "scrolled": true
   },
   "outputs": [
    {
     "output_type": "stream",
     "name": "stdout",
     "text": [
      "count    1.385083e+06\nmean     3.477047e+04\nstd      2.023644e+04\nmin      0.000000e+00\n25%      1.731200e+04\n50%      3.462700e+04\n75%      5.193900e+04\nmax      8.189600e+04\nName: RUL, dtype: float64\ncount     8782.000000\nmean     45427.648144\nstd      15643.733322\nmin       3964.000000\n25%      34177.000000\n50%      46891.000000\n75%      57867.500000\nmax      79327.000000\nName: RUL, dtype: float64\n"
     ]
    }
   ],
   "source": [
    "print(data_train_df.RUL.describe())\n",
    "print(data_test_df.RUL.describe())"
   ]
  },
  {
   "cell_type": "code",
   "execution_count": 6,
   "metadata": {},
   "outputs": [
    {
     "output_type": "stream",
     "name": "stdout",
     "text": [
      "[    0.           221.6066482    886.4265928   1994.4598338\n  3545.70637119  5540.16620499  7977.83933518 10858.72576177\n 14182.82548476 17950.13850416 22160.66481994 26814.40443213\n 31911.35734072 37451.52354571 43434.90304709 49861.49584488\n 56731.30193906 64044.32132964 71800.55401662 80000.\n 81896.        ]\n[0, 1, 2, 3, 4, 5, 6, 7, 8, 9, 10, 11, 12, 13, 14, 15, 16, 17, 18, 19]\n"
     ]
    },
    {
     "output_type": "display_data",
     "data": {
      "text/plain": "<Figure size 432x288 with 1 Axes>",
      "image/svg+xml": "<?xml version=\"1.0\" encoding=\"utf-8\" standalone=\"no\"?>\r\n<!DOCTYPE svg PUBLIC \"-//W3C//DTD SVG 1.1//EN\"\r\n  \"http://www.w3.org/Graphics/SVG/1.1/DTD/svg11.dtd\">\r\n<!-- Created with matplotlib (https://matplotlib.org/) -->\r\n<svg height=\"248.518125pt\" version=\"1.1\" viewBox=\"0 0 386.845312 248.518125\" width=\"386.845312pt\" xmlns=\"http://www.w3.org/2000/svg\" xmlns:xlink=\"http://www.w3.org/1999/xlink\">\r\n <metadata>\r\n  <rdf:RDF xmlns:cc=\"http://creativecommons.org/ns#\" xmlns:dc=\"http://purl.org/dc/elements/1.1/\" xmlns:rdf=\"http://www.w3.org/1999/02/22-rdf-syntax-ns#\">\r\n   <cc:Work>\r\n    <dc:type rdf:resource=\"http://purl.org/dc/dcmitype/StillImage\"/>\r\n    <dc:date>2021-05-05T16:13:12.683007</dc:date>\r\n    <dc:format>image/svg+xml</dc:format>\r\n    <dc:creator>\r\n     <cc:Agent>\r\n      <dc:title>Matplotlib v3.3.4, https://matplotlib.org/</dc:title>\r\n     </cc:Agent>\r\n    </dc:creator>\r\n   </cc:Work>\r\n  </rdf:RDF>\r\n </metadata>\r\n <defs>\r\n  <style type=\"text/css\">*{stroke-linecap:butt;stroke-linejoin:round;}</style>\r\n </defs>\r\n <g id=\"figure_1\">\r\n  <g id=\"patch_1\">\r\n   <path d=\"M 0 248.518125 \r\nL 386.845312 248.518125 \r\nL 386.845312 0 \r\nL 0 0 \r\nz\r\n\" style=\"fill:none;\"/>\r\n  </g>\r\n  <g id=\"axes_1\">\r\n   <g id=\"patch_2\">\r\n    <path d=\"M 44.845313 224.64 \r\nL 379.645313 224.64 \r\nL 379.645313 7.2 \r\nL 44.845313 7.2 \r\nz\r\n\" style=\"fill:#ffffff;\"/>\r\n   </g>\r\n   <g id=\"matplotlib.axis_1\">\r\n    <g id=\"xtick_1\">\r\n     <g id=\"line2d_1\">\r\n      <defs>\r\n       <path d=\"M 0 0 \r\nL 0 3.5 \r\n\" id=\"m049aae7c4c\" style=\"stroke:#000000;stroke-width:0.8;\"/>\r\n      </defs>\r\n      <g>\r\n       <use style=\"stroke:#000000;stroke-width:0.8;\" x=\"60.063494\" xlink:href=\"#m049aae7c4c\" y=\"224.64\"/>\r\n      </g>\r\n     </g>\r\n     <g id=\"text_1\">\r\n      <!-- 0 -->\r\n      <g transform=\"translate(56.882244 239.238437)scale(0.1 -0.1)\">\r\n       <defs>\r\n        <path d=\"M 31.78125 66.40625 \r\nQ 24.171875 66.40625 20.328125 58.90625 \r\nQ 16.5 51.421875 16.5 36.375 \r\nQ 16.5 21.390625 20.328125 13.890625 \r\nQ 24.171875 6.390625 31.78125 6.390625 \r\nQ 39.453125 6.390625 43.28125 13.890625 \r\nQ 47.125 21.390625 47.125 36.375 \r\nQ 47.125 51.421875 43.28125 58.90625 \r\nQ 39.453125 66.40625 31.78125 66.40625 \r\nz\r\nM 31.78125 74.21875 \r\nQ 44.046875 74.21875 50.515625 64.515625 \r\nQ 56.984375 54.828125 56.984375 36.375 \r\nQ 56.984375 17.96875 50.515625 8.265625 \r\nQ 44.046875 -1.421875 31.78125 -1.421875 \r\nQ 19.53125 -1.421875 13.0625 8.265625 \r\nQ 6.59375 17.96875 6.59375 36.375 \r\nQ 6.59375 54.828125 13.0625 64.515625 \r\nQ 19.53125 74.21875 31.78125 74.21875 \r\nz\r\n\" id=\"DejaVuSans-48\"/>\r\n       </defs>\r\n       <use xlink:href=\"#DejaVuSans-48\"/>\r\n      </g>\r\n     </g>\r\n    </g>\r\n    <g id=\"xtick_2\">\r\n     <g id=\"line2d_2\">\r\n      <g>\r\n       <use style=\"stroke:#000000;stroke-width:0.8;\" x=\"134.392799\" xlink:href=\"#m049aae7c4c\" y=\"224.64\"/>\r\n      </g>\r\n     </g>\r\n     <g id=\"text_2\">\r\n      <!-- 20000 -->\r\n      <g transform=\"translate(118.486549 239.238437)scale(0.1 -0.1)\">\r\n       <defs>\r\n        <path d=\"M 19.1875 8.296875 \r\nL 53.609375 8.296875 \r\nL 53.609375 0 \r\nL 7.328125 0 \r\nL 7.328125 8.296875 \r\nQ 12.9375 14.109375 22.625 23.890625 \r\nQ 32.328125 33.6875 34.8125 36.53125 \r\nQ 39.546875 41.84375 41.421875 45.53125 \r\nQ 43.3125 49.21875 43.3125 52.78125 \r\nQ 43.3125 58.59375 39.234375 62.25 \r\nQ 35.15625 65.921875 28.609375 65.921875 \r\nQ 23.96875 65.921875 18.8125 64.3125 \r\nQ 13.671875 62.703125 7.8125 59.421875 \r\nL 7.8125 69.390625 \r\nQ 13.765625 71.78125 18.9375 73 \r\nQ 24.125 74.21875 28.421875 74.21875 \r\nQ 39.75 74.21875 46.484375 68.546875 \r\nQ 53.21875 62.890625 53.21875 53.421875 \r\nQ 53.21875 48.921875 51.53125 44.890625 \r\nQ 49.859375 40.875 45.40625 35.40625 \r\nQ 44.1875 33.984375 37.640625 27.21875 \r\nQ 31.109375 20.453125 19.1875 8.296875 \r\nz\r\n\" id=\"DejaVuSans-50\"/>\r\n       </defs>\r\n       <use xlink:href=\"#DejaVuSans-50\"/>\r\n       <use x=\"63.623047\" xlink:href=\"#DejaVuSans-48\"/>\r\n       <use x=\"127.246094\" xlink:href=\"#DejaVuSans-48\"/>\r\n       <use x=\"190.869141\" xlink:href=\"#DejaVuSans-48\"/>\r\n       <use x=\"254.492188\" xlink:href=\"#DejaVuSans-48\"/>\r\n      </g>\r\n     </g>\r\n    </g>\r\n    <g id=\"xtick_3\">\r\n     <g id=\"line2d_3\">\r\n      <g>\r\n       <use style=\"stroke:#000000;stroke-width:0.8;\" x=\"208.722103\" xlink:href=\"#m049aae7c4c\" y=\"224.64\"/>\r\n      </g>\r\n     </g>\r\n     <g id=\"text_3\">\r\n      <!-- 40000 -->\r\n      <g transform=\"translate(192.815853 239.238437)scale(0.1 -0.1)\">\r\n       <defs>\r\n        <path d=\"M 37.796875 64.3125 \r\nL 12.890625 25.390625 \r\nL 37.796875 25.390625 \r\nz\r\nM 35.203125 72.90625 \r\nL 47.609375 72.90625 \r\nL 47.609375 25.390625 \r\nL 58.015625 25.390625 \r\nL 58.015625 17.1875 \r\nL 47.609375 17.1875 \r\nL 47.609375 0 \r\nL 37.796875 0 \r\nL 37.796875 17.1875 \r\nL 4.890625 17.1875 \r\nL 4.890625 26.703125 \r\nz\r\n\" id=\"DejaVuSans-52\"/>\r\n       </defs>\r\n       <use xlink:href=\"#DejaVuSans-52\"/>\r\n       <use x=\"63.623047\" xlink:href=\"#DejaVuSans-48\"/>\r\n       <use x=\"127.246094\" xlink:href=\"#DejaVuSans-48\"/>\r\n       <use x=\"190.869141\" xlink:href=\"#DejaVuSans-48\"/>\r\n       <use x=\"254.492188\" xlink:href=\"#DejaVuSans-48\"/>\r\n      </g>\r\n     </g>\r\n    </g>\r\n    <g id=\"xtick_4\">\r\n     <g id=\"line2d_4\">\r\n      <g>\r\n       <use style=\"stroke:#000000;stroke-width:0.8;\" x=\"283.051408\" xlink:href=\"#m049aae7c4c\" y=\"224.64\"/>\r\n      </g>\r\n     </g>\r\n     <g id=\"text_4\">\r\n      <!-- 60000 -->\r\n      <g transform=\"translate(267.145158 239.238437)scale(0.1 -0.1)\">\r\n       <defs>\r\n        <path d=\"M 33.015625 40.375 \r\nQ 26.375 40.375 22.484375 35.828125 \r\nQ 18.609375 31.296875 18.609375 23.390625 \r\nQ 18.609375 15.53125 22.484375 10.953125 \r\nQ 26.375 6.390625 33.015625 6.390625 \r\nQ 39.65625 6.390625 43.53125 10.953125 \r\nQ 47.40625 15.53125 47.40625 23.390625 \r\nQ 47.40625 31.296875 43.53125 35.828125 \r\nQ 39.65625 40.375 33.015625 40.375 \r\nz\r\nM 52.59375 71.296875 \r\nL 52.59375 62.3125 \r\nQ 48.875 64.0625 45.09375 64.984375 \r\nQ 41.3125 65.921875 37.59375 65.921875 \r\nQ 27.828125 65.921875 22.671875 59.328125 \r\nQ 17.53125 52.734375 16.796875 39.40625 \r\nQ 19.671875 43.65625 24.015625 45.921875 \r\nQ 28.375 48.1875 33.59375 48.1875 \r\nQ 44.578125 48.1875 50.953125 41.515625 \r\nQ 57.328125 34.859375 57.328125 23.390625 \r\nQ 57.328125 12.15625 50.6875 5.359375 \r\nQ 44.046875 -1.421875 33.015625 -1.421875 \r\nQ 20.359375 -1.421875 13.671875 8.265625 \r\nQ 6.984375 17.96875 6.984375 36.375 \r\nQ 6.984375 53.65625 15.1875 63.9375 \r\nQ 23.390625 74.21875 37.203125 74.21875 \r\nQ 40.921875 74.21875 44.703125 73.484375 \r\nQ 48.484375 72.75 52.59375 71.296875 \r\nz\r\n\" id=\"DejaVuSans-54\"/>\r\n       </defs>\r\n       <use xlink:href=\"#DejaVuSans-54\"/>\r\n       <use x=\"63.623047\" xlink:href=\"#DejaVuSans-48\"/>\r\n       <use x=\"127.246094\" xlink:href=\"#DejaVuSans-48\"/>\r\n       <use x=\"190.869141\" xlink:href=\"#DejaVuSans-48\"/>\r\n       <use x=\"254.492188\" xlink:href=\"#DejaVuSans-48\"/>\r\n      </g>\r\n     </g>\r\n    </g>\r\n    <g id=\"xtick_5\">\r\n     <g id=\"line2d_5\">\r\n      <g>\r\n       <use style=\"stroke:#000000;stroke-width:0.8;\" x=\"357.380713\" xlink:href=\"#m049aae7c4c\" y=\"224.64\"/>\r\n      </g>\r\n     </g>\r\n     <g id=\"text_5\">\r\n      <!-- 80000 -->\r\n      <g transform=\"translate(341.474463 239.238437)scale(0.1 -0.1)\">\r\n       <defs>\r\n        <path d=\"M 31.78125 34.625 \r\nQ 24.75 34.625 20.71875 30.859375 \r\nQ 16.703125 27.09375 16.703125 20.515625 \r\nQ 16.703125 13.921875 20.71875 10.15625 \r\nQ 24.75 6.390625 31.78125 6.390625 \r\nQ 38.8125 6.390625 42.859375 10.171875 \r\nQ 46.921875 13.96875 46.921875 20.515625 \r\nQ 46.921875 27.09375 42.890625 30.859375 \r\nQ 38.875 34.625 31.78125 34.625 \r\nz\r\nM 21.921875 38.8125 \r\nQ 15.578125 40.375 12.03125 44.71875 \r\nQ 8.5 49.078125 8.5 55.328125 \r\nQ 8.5 64.0625 14.71875 69.140625 \r\nQ 20.953125 74.21875 31.78125 74.21875 \r\nQ 42.671875 74.21875 48.875 69.140625 \r\nQ 55.078125 64.0625 55.078125 55.328125 \r\nQ 55.078125 49.078125 51.53125 44.71875 \r\nQ 48 40.375 41.703125 38.8125 \r\nQ 48.828125 37.15625 52.796875 32.3125 \r\nQ 56.78125 27.484375 56.78125 20.515625 \r\nQ 56.78125 9.90625 50.3125 4.234375 \r\nQ 43.84375 -1.421875 31.78125 -1.421875 \r\nQ 19.734375 -1.421875 13.25 4.234375 \r\nQ 6.78125 9.90625 6.78125 20.515625 \r\nQ 6.78125 27.484375 10.78125 32.3125 \r\nQ 14.796875 37.15625 21.921875 38.8125 \r\nz\r\nM 18.3125 54.390625 \r\nQ 18.3125 48.734375 21.84375 45.5625 \r\nQ 25.390625 42.390625 31.78125 42.390625 \r\nQ 38.140625 42.390625 41.71875 45.5625 \r\nQ 45.3125 48.734375 45.3125 54.390625 \r\nQ 45.3125 60.0625 41.71875 63.234375 \r\nQ 38.140625 66.40625 31.78125 66.40625 \r\nQ 25.390625 66.40625 21.84375 63.234375 \r\nQ 18.3125 60.0625 18.3125 54.390625 \r\nz\r\n\" id=\"DejaVuSans-56\"/>\r\n       </defs>\r\n       <use xlink:href=\"#DejaVuSans-56\"/>\r\n       <use x=\"63.623047\" xlink:href=\"#DejaVuSans-48\"/>\r\n       <use x=\"127.246094\" xlink:href=\"#DejaVuSans-48\"/>\r\n       <use x=\"190.869141\" xlink:href=\"#DejaVuSans-48\"/>\r\n       <use x=\"254.492188\" xlink:href=\"#DejaVuSans-48\"/>\r\n      </g>\r\n     </g>\r\n    </g>\r\n   </g>\r\n   <g id=\"matplotlib.axis_2\">\r\n    <g id=\"ytick_1\">\r\n     <g id=\"line2d_6\">\r\n      <defs>\r\n       <path d=\"M 0 0 \r\nL -3.5 0 \r\n\" id=\"m25033eca25\" style=\"stroke:#000000;stroke-width:0.8;\"/>\r\n      </defs>\r\n      <g>\r\n       <use style=\"stroke:#000000;stroke-width:0.8;\" x=\"44.845313\" xlink:href=\"#m25033eca25\" y=\"194.989091\"/>\r\n      </g>\r\n     </g>\r\n     <g id=\"text_6\">\r\n      <!-- −0.04 -->\r\n      <g transform=\"translate(7.2 198.78831)scale(0.1 -0.1)\">\r\n       <defs>\r\n        <path d=\"M 10.59375 35.5 \r\nL 73.1875 35.5 \r\nL 73.1875 27.203125 \r\nL 10.59375 27.203125 \r\nz\r\n\" id=\"DejaVuSans-8722\"/>\r\n        <path d=\"M 10.6875 12.40625 \r\nL 21 12.40625 \r\nL 21 0 \r\nL 10.6875 0 \r\nz\r\n\" id=\"DejaVuSans-46\"/>\r\n       </defs>\r\n       <use xlink:href=\"#DejaVuSans-8722\"/>\r\n       <use x=\"83.789062\" xlink:href=\"#DejaVuSans-48\"/>\r\n       <use x=\"147.412109\" xlink:href=\"#DejaVuSans-46\"/>\r\n       <use x=\"179.199219\" xlink:href=\"#DejaVuSans-48\"/>\r\n       <use x=\"242.822266\" xlink:href=\"#DejaVuSans-52\"/>\r\n      </g>\r\n     </g>\r\n    </g>\r\n    <g id=\"ytick_2\">\r\n     <g id=\"line2d_7\">\r\n      <g>\r\n       <use style=\"stroke:#000000;stroke-width:0.8;\" x=\"44.845313\" xlink:href=\"#m25033eca25\" y=\"155.454545\"/>\r\n      </g>\r\n     </g>\r\n     <g id=\"text_7\">\r\n      <!-- −0.02 -->\r\n      <g transform=\"translate(7.2 159.253764)scale(0.1 -0.1)\">\r\n       <use xlink:href=\"#DejaVuSans-8722\"/>\r\n       <use x=\"83.789062\" xlink:href=\"#DejaVuSans-48\"/>\r\n       <use x=\"147.412109\" xlink:href=\"#DejaVuSans-46\"/>\r\n       <use x=\"179.199219\" xlink:href=\"#DejaVuSans-48\"/>\r\n       <use x=\"242.822266\" xlink:href=\"#DejaVuSans-50\"/>\r\n      </g>\r\n     </g>\r\n    </g>\r\n    <g id=\"ytick_3\">\r\n     <g id=\"line2d_8\">\r\n      <g>\r\n       <use style=\"stroke:#000000;stroke-width:0.8;\" x=\"44.845313\" xlink:href=\"#m25033eca25\" y=\"115.92\"/>\r\n      </g>\r\n     </g>\r\n     <g id=\"text_8\">\r\n      <!-- 0.00 -->\r\n      <g transform=\"translate(15.579688 119.719219)scale(0.1 -0.1)\">\r\n       <use xlink:href=\"#DejaVuSans-48\"/>\r\n       <use x=\"63.623047\" xlink:href=\"#DejaVuSans-46\"/>\r\n       <use x=\"95.410156\" xlink:href=\"#DejaVuSans-48\"/>\r\n       <use x=\"159.033203\" xlink:href=\"#DejaVuSans-48\"/>\r\n      </g>\r\n     </g>\r\n    </g>\r\n    <g id=\"ytick_4\">\r\n     <g id=\"line2d_9\">\r\n      <g>\r\n       <use style=\"stroke:#000000;stroke-width:0.8;\" x=\"44.845313\" xlink:href=\"#m25033eca25\" y=\"76.385455\"/>\r\n      </g>\r\n     </g>\r\n     <g id=\"text_9\">\r\n      <!-- 0.02 -->\r\n      <g transform=\"translate(15.579688 80.184673)scale(0.1 -0.1)\">\r\n       <use xlink:href=\"#DejaVuSans-48\"/>\r\n       <use x=\"63.623047\" xlink:href=\"#DejaVuSans-46\"/>\r\n       <use x=\"95.410156\" xlink:href=\"#DejaVuSans-48\"/>\r\n       <use x=\"159.033203\" xlink:href=\"#DejaVuSans-50\"/>\r\n      </g>\r\n     </g>\r\n    </g>\r\n    <g id=\"ytick_5\">\r\n     <g id=\"line2d_10\">\r\n      <g>\r\n       <use style=\"stroke:#000000;stroke-width:0.8;\" x=\"44.845313\" xlink:href=\"#m25033eca25\" y=\"36.850909\"/>\r\n      </g>\r\n     </g>\r\n     <g id=\"text_10\">\r\n      <!-- 0.04 -->\r\n      <g transform=\"translate(15.579688 40.650128)scale(0.1 -0.1)\">\r\n       <use xlink:href=\"#DejaVuSans-48\"/>\r\n       <use x=\"63.623047\" xlink:href=\"#DejaVuSans-46\"/>\r\n       <use x=\"95.410156\" xlink:href=\"#DejaVuSans-48\"/>\r\n       <use x=\"159.033203\" xlink:href=\"#DejaVuSans-52\"/>\r\n      </g>\r\n     </g>\r\n    </g>\r\n   </g>\r\n   <g id=\"line2d_11\">\r\n    <defs>\r\n     <path d=\"M 0 3 \r\nC 0.795609 3 1.55874 2.683901 2.12132 2.12132 \r\nC 2.683901 1.55874 3 0.795609 3 0 \r\nC 3 -0.795609 2.683901 -1.55874 2.12132 -2.12132 \r\nC 1.55874 -2.683901 0.795609 -3 0 -3 \r\nC -0.795609 -3 -1.55874 -2.683901 -2.12132 -2.12132 \r\nC -2.683901 -1.55874 -3 -0.795609 -3 0 \r\nC -3 0.795609 -2.683901 1.55874 -2.12132 2.12132 \r\nC -1.55874 2.683901 -0.795609 3 0 3 \r\nz\r\n\" id=\"m0168c33c78\" style=\"stroke:#1f77b4;\"/>\r\n    </defs>\r\n    <g clip-path=\"url(#pa1be9487b4)\">\r\n     <use style=\"fill:#1f77b4;stroke:#1f77b4;\" x=\"60.063494\" xlink:href=\"#m0168c33c78\" y=\"115.92\"/>\r\n     <use style=\"fill:#1f77b4;stroke:#1f77b4;\" x=\"60.887088\" xlink:href=\"#m0168c33c78\" y=\"115.92\"/>\r\n     <use style=\"fill:#1f77b4;stroke:#1f77b4;\" x=\"63.357868\" xlink:href=\"#m0168c33c78\" y=\"115.92\"/>\r\n     <use style=\"fill:#1f77b4;stroke:#1f77b4;\" x=\"67.475835\" xlink:href=\"#m0168c33c78\" y=\"115.92\"/>\r\n     <use style=\"fill:#1f77b4;stroke:#1f77b4;\" x=\"73.240989\" xlink:href=\"#m0168c33c78\" y=\"115.92\"/>\r\n     <use style=\"fill:#1f77b4;stroke:#1f77b4;\" x=\"80.653329\" xlink:href=\"#m0168c33c78\" y=\"115.92\"/>\r\n     <use style=\"fill:#1f77b4;stroke:#1f77b4;\" x=\"89.712857\" xlink:href=\"#m0168c33c78\" y=\"115.92\"/>\r\n     <use style=\"fill:#1f77b4;stroke:#1f77b4;\" x=\"100.419571\" xlink:href=\"#m0168c33c78\" y=\"115.92\"/>\r\n     <use style=\"fill:#1f77b4;stroke:#1f77b4;\" x=\"112.773472\" xlink:href=\"#m0168c33c78\" y=\"115.92\"/>\r\n     <use style=\"fill:#1f77b4;stroke:#1f77b4;\" x=\"126.77456\" xlink:href=\"#m0168c33c78\" y=\"115.92\"/>\r\n     <use style=\"fill:#1f77b4;stroke:#1f77b4;\" x=\"142.422835\" xlink:href=\"#m0168c33c78\" y=\"115.92\"/>\r\n     <use style=\"fill:#1f77b4;stroke:#1f77b4;\" x=\"159.718296\" xlink:href=\"#m0168c33c78\" y=\"115.92\"/>\r\n     <use style=\"fill:#1f77b4;stroke:#1f77b4;\" x=\"178.660944\" xlink:href=\"#m0168c33c78\" y=\"115.92\"/>\r\n     <use style=\"fill:#1f77b4;stroke:#1f77b4;\" x=\"199.250779\" xlink:href=\"#m0168c33c78\" y=\"115.92\"/>\r\n     <use style=\"fill:#1f77b4;stroke:#1f77b4;\" x=\"221.487801\" xlink:href=\"#m0168c33c78\" y=\"115.92\"/>\r\n     <use style=\"fill:#1f77b4;stroke:#1f77b4;\" x=\"245.37201\" xlink:href=\"#m0168c33c78\" y=\"115.92\"/>\r\n     <use style=\"fill:#1f77b4;stroke:#1f77b4;\" x=\"270.903405\" xlink:href=\"#m0168c33c78\" y=\"115.92\"/>\r\n     <use style=\"fill:#1f77b4;stroke:#1f77b4;\" x=\"298.081988\" xlink:href=\"#m0168c33c78\" y=\"115.92\"/>\r\n     <use style=\"fill:#1f77b4;stroke:#1f77b4;\" x=\"326.907757\" xlink:href=\"#m0168c33c78\" y=\"115.92\"/>\r\n     <use style=\"fill:#1f77b4;stroke:#1f77b4;\" x=\"357.380713\" xlink:href=\"#m0168c33c78\" y=\"115.92\"/>\r\n     <use style=\"fill:#1f77b4;stroke:#1f77b4;\" x=\"364.427131\" xlink:href=\"#m0168c33c78\" y=\"115.92\"/>\r\n    </g>\r\n   </g>\r\n   <g id=\"patch_3\">\r\n    <path d=\"M 44.845313 224.64 \r\nL 44.845313 7.2 \r\n\" style=\"fill:none;stroke:#000000;stroke-linecap:square;stroke-linejoin:miter;stroke-width:0.8;\"/>\r\n   </g>\r\n   <g id=\"patch_4\">\r\n    <path d=\"M 379.645313 224.64 \r\nL 379.645313 7.2 \r\n\" style=\"fill:none;stroke:#000000;stroke-linecap:square;stroke-linejoin:miter;stroke-width:0.8;\"/>\r\n   </g>\r\n   <g id=\"patch_5\">\r\n    <path d=\"M 44.845313 224.64 \r\nL 379.645313 224.64 \r\n\" style=\"fill:none;stroke:#000000;stroke-linecap:square;stroke-linejoin:miter;stroke-width:0.8;\"/>\r\n   </g>\r\n   <g id=\"patch_6\">\r\n    <path d=\"M 44.845313 7.2 \r\nL 379.645313 7.2 \r\n\" style=\"fill:none;stroke:#000000;stroke-linecap:square;stroke-linejoin:miter;stroke-width:0.8;\"/>\r\n   </g>\r\n  </g>\r\n </g>\r\n <defs>\r\n  <clipPath id=\"pa1be9487b4\">\r\n   <rect height=\"217.44\" width=\"334.8\" x=\"44.845313\" y=\"7.2\"/>\r\n  </clipPath>\r\n </defs>\r\n</svg>\r\n",
      "image/png": "[encoded data removed]"
     },
     "metadata": {
      "needs_background": "light"
     }
    }
   ],
   "source": [
    "# create bins\n",
    "l = 0.5\n",
    "nb_bins = 20 # including one extra bin for RUL>upper_bin_bound\n",
    "lower_bin_bound = 0\n",
    "upper_bin_bound = 80000\n",
    "\n",
    "bins = np.linspace(lower_bin_bound**l, upper_bin_bound**l, nb_bins)**(1/l)\n",
    "bins = np.append(bins, data_train_df.RUL.max())\n",
    "\n",
    "labels=[i for i in range(bins.shape[0]-1)]\n",
    "plt.plot(bins,np.full(bins.shape[0],0),'o')\n",
    "print(bins)\n",
    "print(labels)"
   ]
  },
  {
   "cell_type": "code",
   "execution_count": 9,
   "metadata": {},
   "outputs": [],
   "source": [
    "data_train_df['RUL_bin'] = pd.cut(data_train_df['RUL'], bins=bins, labels=labels)\n",
    "data_test_df['RUL_bin'] = pd.cut(data_test_df['RUL'], bins=bins, labels=labels)"
   ]
  },
  {
   "cell_type": "code",
   "execution_count": 10,
   "metadata": {},
   "outputs": [
    {
     "output_type": "display_data",
     "data": {
      "text/plain": "            ID  cycle    gauge1    gauge2    gauge3    RUL RUL_bin\n0            1      0  0.000684  0.000693  0.000695  68053      17\n1            1    500  0.000684  0.000693  0.000695  67553      17\n2            1   1000  0.000684  0.000693  0.000695  67053      17\n3            1   1500  0.000684  0.000693  0.000695  66553      17\n4            1   2000  0.000684  0.000693  0.000695  66053      17\n...        ...    ...       ...       ...       ...    ...     ...\n1385078  10000  66500  0.000118  0.000253  0.000761   2393       3\n1385079  10000  67000  0.000097  0.000186  0.000755   1893       2\n1385080  10000  67500  0.000078  0.000113  0.000743   1393       2\n1385081  10000  68000  0.000060  0.000037  0.000718    893       2\n1385082  10000  68500  0.000044 -0.000037  0.000673    393       1\n\n[1385083 rows x 7 columns]",
      "text/html": "<div>\n<style scoped>\n    .dataframe tbody tr th:only-of-type {\n        vertical-align: middle;\n    }\n\n    .dataframe tbody tr th {\n        vertical-align: top;\n    }\n\n    .dataframe thead th {\n        text-align: right;\n    }\n</style>\n<table border=\"1\" class=\"dataframe\">\n  <thead>\n    <tr style=\"text-align: right;\">\n      <th></th>\n      <th>ID</th>\n      <th>cycle</th>\n      <th>gauge1</th>\n      <th>gauge2</th>\n      <th>gauge3</th>\n      <th>RUL</th>\n      <th>RUL_bin</th>\n    </tr>\n  </thead>\n  <tbody>\n    <tr>\n      <th>0</th>\n      <td>1</td>\n      <td>0</td>\n      <td>0.000684</td>\n      <td>0.000693</td>\n      <td>0.000695</td>\n      <td>68053</td>\n      <td>17</td>\n    </tr>\n    <tr>\n      <th>1</th>\n      <td>1</td>\n      <td>500</td>\n      <td>0.000684</td>\n      <td>0.000693</td>\n      <td>0.000695</td>\n      <td>67553</td>\n      <td>17</td>\n    </tr>\n    <tr>\n      <th>2</th>\n      <td>1</td>\n      <td>1000</td>\n      <td>0.000684</td>\n      <td>0.000693</td>\n      <td>0.000695</td>\n      <td>67053</td>\n      <td>17</td>\n    </tr>\n    <tr>\n      <th>3</th>\n      <td>1</td>\n      <td>1500</td>\n      <td>0.000684</td>\n      <td>0.000693</td>\n      <td>0.000695</td>\n      <td>66553</td>\n      <td>17</td>\n    </tr>\n    <tr>\n      <th>4</th>\n      <td>1</td>\n      <td>2000</td>\n      <td>0.000684</td>\n      <td>0.000693</td>\n      <td>0.000695</td>\n      <td>66053</td>\n      <td>17</td>\n    </tr>\n    <tr>\n      <th>...</th>\n      <td>...</td>\n      <td>...</td>\n      <td>...</td>\n      <td>...</td>\n      <td>...</td>\n      <td>...</td>\n      <td>...</td>\n    </tr>\n    <tr>\n      <th>1385078</th>\n      <td>10000</td>\n      <td>66500</td>\n      <td>0.000118</td>\n      <td>0.000253</td>\n      <td>0.000761</td>\n      <td>2393</td>\n      <td>3</td>\n    </tr>\n    <tr>\n      <th>1385079</th>\n      <td>10000</td>\n      <td>67000</td>\n      <td>0.000097</td>\n      <td>0.000186</td>\n      <td>0.000755</td>\n      <td>1893</td>\n      <td>2</td>\n    </tr>\n    <tr>\n      <th>1385080</th>\n      <td>10000</td>\n      <td>67500</td>\n      <td>0.000078</td>\n      <td>0.000113</td>\n      <td>0.000743</td>\n      <td>1393</td>\n      <td>2</td>\n    </tr>\n    <tr>\n      <th>1385081</th>\n      <td>10000</td>\n      <td>68000</td>\n      <td>0.000060</td>\n      <td>0.000037</td>\n      <td>0.000718</td>\n      <td>893</td>\n      <td>2</td>\n    </tr>\n    <tr>\n      <th>1385082</th>\n      <td>10000</td>\n      <td>68500</td>\n      <td>0.000044</td>\n      <td>-0.000037</td>\n      <td>0.000673</td>\n      <td>393</td>\n      <td>1</td>\n    </tr>\n  </tbody>\n</table>\n<p>1385083 rows × 7 columns</p>\n</div>"
     },
     "metadata": {}
    },
    {
     "output_type": "display_data",
     "data": {
      "text/plain": "       ID  cycle    gauge1    gauge2    gauge3    RUL RUL_bin\n0       1      0  0.000684  0.000693  0.000695  64540      17\n1       1    500  0.000684  0.000693  0.000695  64040      16\n2       1   1000  0.000684  0.000693  0.000695  63540      16\n3       1   1500  0.000684  0.000693  0.000695  63040      16\n4       1   2000  0.000684  0.000693  0.000695  62540      16\n...   ...    ...       ...       ...       ...    ...     ...\n8777  100  22000  0.000670  0.000691  0.000696  43346      13\n8778  100  22500  0.000670  0.000691  0.000696  42846      13\n8779  100  23000  0.000669  0.000691  0.000696  42346      13\n8780  100  23500  0.000669  0.000691  0.000696  41846      13\n8781  100  24000  0.000668  0.000691  0.000696  41346      13\n\n[8782 rows x 7 columns]",
      "text/html": "<div>\n<style scoped>\n    .dataframe tbody tr th:only-of-type {\n        vertical-align: middle;\n    }\n\n    .dataframe tbody tr th {\n        vertical-align: top;\n    }\n\n    .dataframe thead th {\n        text-align: right;\n    }\n</style>\n<table border=\"1\" class=\"dataframe\">\n  <thead>\n    <tr style=\"text-align: right;\">\n      <th></th>\n      <th>ID</th>\n      <th>cycle</th>\n      <th>gauge1</th>\n      <th>gauge2</th>\n      <th>gauge3</th>\n      <th>RUL</th>\n      <th>RUL_bin</th>\n    </tr>\n  </thead>\n  <tbody>\n    <tr>\n      <th>0</th>\n      <td>1</td>\n      <td>0</td>\n      <td>0.000684</td>\n      <td>0.000693</td>\n      <td>0.000695</td>\n      <td>64540</td>\n      <td>17</td>\n    </tr>\n    <tr>\n      <th>1</th>\n      <td>1</td>\n      <td>500</td>\n      <td>0.000684</td>\n      <td>0.000693</td>\n      <td>0.000695</td>\n      <td>64040</td>\n      <td>16</td>\n    </tr>\n    <tr>\n      <th>2</th>\n      <td>1</td>\n      <td>1000</td>\n      <td>0.000684</td>\n      <td>0.000693</td>\n      <td>0.000695</td>\n      <td>63540</td>\n      <td>16</td>\n    </tr>\n    <tr>\n      <th>3</th>\n      <td>1</td>\n      <td>1500</td>\n      <td>0.000684</td>\n      <td>0.000693</td>\n      <td>0.000695</td>\n      <td>63040</td>\n      <td>16</td>\n    </tr>\n    <tr>\n      <th>4</th>\n      <td>1</td>\n      <td>2000</td>\n      <td>0.000684</td>\n      <td>0.000693</td>\n      <td>0.000695</td>\n      <td>62540</td>\n      <td>16</td>\n    </tr>\n    <tr>\n      <th>...</th>\n      <td>...</td>\n      <td>...</td>\n      <td>...</td>\n      <td>...</td>\n      <td>...</td>\n      <td>...</td>\n      <td>...</td>\n    </tr>\n    <tr>\n      <th>8777</th>\n      <td>100</td>\n      <td>22000</td>\n      <td>0.000670</td>\n      <td>0.000691</td>\n      <td>0.000696</td>\n      <td>43346</td>\n      <td>13</td>\n    </tr>\n    <tr>\n      <th>8778</th>\n      <td>100</td>\n      <td>22500</td>\n      <td>0.000670</td>\n      <td>0.000691</td>\n      <td>0.000696</td>\n      <td>42846</td>\n      <td>13</td>\n    </tr>\n    <tr>\n      <th>8779</th>\n      <td>100</td>\n      <td>23000</td>\n      <td>0.000669</td>\n      <td>0.000691</td>\n      <td>0.000696</td>\n      <td>42346</td>\n      <td>13</td>\n    </tr>\n    <tr>\n      <th>8780</th>\n      <td>100</td>\n      <td>23500</td>\n      <td>0.000669</td>\n      <td>0.000691</td>\n      <td>0.000696</td>\n      <td>41846</td>\n      <td>13</td>\n    </tr>\n    <tr>\n      <th>8781</th>\n      <td>100</td>\n      <td>24000</td>\n      <td>0.000668</td>\n      <td>0.000691</td>\n      <td>0.000696</td>\n      <td>41346</td>\n      <td>13</td>\n    </tr>\n  </tbody>\n</table>\n<p>8782 rows × 7 columns</p>\n</div>"
     },
     "metadata": {}
    }
   ],
   "source": [
    "display(data_train_df)\n",
    "display(data_test_df) "
   ]
  },
  {
   "cell_type": "markdown",
   "metadata": {},
   "source": [
    "# Build sequences"
   ]
  },
  {
   "cell_type": "code",
   "execution_count": 10,
   "metadata": {
    "scrolled": false
   },
   "outputs": [
    {
     "name": "stdout",
     "output_type": "stream",
     "text": [
      "(118452, 20, 3)\n",
      "(118452,)\n",
      "(11937, 20, 3)\n",
      "(11937,)\n"
     ]
    }
   ],
   "source": [
    "#utils \n",
    "nb_gauges = 3\n",
    "data_train = data_train_df[data_train_df.ID <= 1000]\n",
    "data_val = data_train_df[data_train_df.ID > 9900]\n",
    "\n",
    "#prepare forecasting data\n",
    "def gen_X_sequence(id_df, seq_length, seq_cols, timesteps_pred, type_data = None):\n",
    "    \"\"\" Only sequences that meet the window-length are considered, no padding is used. This means for testing\n",
    "    we need to drop those which are below the window-length. An alternative would be to pad sequences so that\n",
    "    we can use shorter ones \"\"\"\n",
    "    \n",
    "    \n",
    "    ind_start = 0\n",
    "    \n",
    "    data_array = id_df[seq_cols].values\n",
    "    num_elements = data_array.shape[0]\n",
    "    for start, stop in zip(range(0+ind_start, num_elements-seq_length+1-timesteps_pred), range(seq_length+ind_start, num_elements+1-timesteps_pred)):\n",
    "        yield data_array[start:stop, :]\n",
    " \n",
    "\n",
    "def gen_Y_sequence(id_df, seq_length, seq_cols, timesteps_pred, type_data = None):\n",
    "    \"\"\" Only sequences that meet the window-length are considered, no padding is used. This means for testing\n",
    "    we need to drop those which are below the window-length. An alternative would be to pad sequences so that\n",
    "    we can use shorter ones \"\"\"\n",
    "    \n",
    "    \n",
    "    ind_start = 0\n",
    "    \n",
    "    data_array = id_df[seq_cols].values\n",
    "    num_elements = data_array.shape[0]\n",
    "    for start, stop in zip(range(0+ind_start, num_elements-seq_length+1-timesteps_pred), range(seq_length+ind_start, num_elements+1-timesteps_pred)):\n",
    "        yield data_array[stop-1, :]#data_array[start+1:stop+1, :]\n",
    "   \n",
    "\n",
    "#prepare data\n",
    "seq_cols =  ['gauge'+str(i) for i in range(1,4)]#['label'+str(i) for i in range(1,4)]\n",
    "seq_cols1 =  ['RUL_bin']\n",
    "sequence_length = 20\n",
    "timesteps_pred = 1\n",
    "\n",
    "\n",
    "#training set\n",
    "seq_gen = (list(gen_X_sequence(data_train[data_train['ID']==id], sequence_length, seq_cols, timesteps_pred, type_data= 'train')) \n",
    "                   for id in data_train['ID'].unique())\n",
    "# generate sequences and convert to numpy array\n",
    "dbX = np.concatenate(list(seq_gen))\n",
    "\n",
    "seq_gen = (list(gen_Y_sequence(data_train[data_train['ID']==id], sequence_length, seq_cols1, timesteps_pred, type_data= 'train')) \n",
    "                   for id in data_train['ID'].unique())\n",
    "# generate sequences and convert to numpy array\n",
    "dbY = np.concatenate(list(seq_gen)).reshape(-1,)\n",
    "\n",
    "print(dbX.shape)\n",
    "print(dbY.shape)\n",
    "\n",
    "#val set\n",
    "seq_gen = (list(gen_X_sequence(data_val[data_val['ID']==id], sequence_length, seq_cols, timesteps_pred, type_data= 'train')) \n",
    "                   for id in data_val['ID'].unique())\n",
    "# generate sequences and convert to numpy array\n",
    "dbX_val = np.concatenate(list(seq_gen))\n",
    "\n",
    "seq_gen = (list(gen_Y_sequence(data_val[data_val['ID']==id], sequence_length, seq_cols1, timesteps_pred, type_data= 'train')) \n",
    "                   for id in data_val['ID'].unique())\n",
    "# generate sequences and convert to numpy array\n",
    "dbY_val = np.concatenate(list(seq_gen)).reshape(-1,)\n",
    "\n",
    "print(dbX_val.shape)\n",
    "print(dbY_val.shape)\n",
    "\n",
    "# add one dimension\n",
    "# dbX_val = dbX_val[..., np.newaxis]\n",
    "# dbX_val = (dbX_val + 1)/2\n",
    "# dbY_val = (dbY_val + 1)/2"
   ]
  },
  {
   "cell_type": "markdown",
   "metadata": {},
   "source": [
    "# Build model"
   ]
  },
  {
   "cell_type": "code",
   "execution_count": 11,
   "metadata": {
    "scrolled": true
   },
   "outputs": [
    {
     "name": "stdout",
     "output_type": "stream",
     "text": [
      "WARNING:tensorflow:AutoGraph could not transform <bound method TCN.call of <tcn.tcn.TCN object at 0x000002275A267BB0>> and will run it as-is.\n",
      "Please report this to the TensorFlow team. When filing the bug, set the verbosity to 10 (on Linux, `export AUTOGRAPH_VERBOSITY=10`) and attach the full output.\n",
      "Cause: module 'gast' has no attribute 'Index'\n",
      "To silence this warning, decorate the function with @tf.autograph.experimental.do_not_convert\n",
      "WARNING: AutoGraph could not transform <bound method TCN.call of <tcn.tcn.TCN object at 0x000002275A267BB0>> and will run it as-is.\n",
      "Please report this to the TensorFlow team. When filing the bug, set the verbosity to 10 (on Linux, `export AUTOGRAPH_VERBOSITY=10`) and attach the full output.\n",
      "Cause: module 'gast' has no attribute 'Index'\n",
      "To silence this warning, decorate the function with @tf.autograph.experimental.do_not_convert\n"
     ]
    }
   ],
   "source": [
    "input_layer = Input(shape=(dbX.shape[1], dbX.shape[2]))\n",
    "x = TCN(nb_filters=20, kernel_size=3, nb_stacks=1, dilations=[2 ** i for i in range(6)], padding='causal',\n",
    "            use_skip_connections=True, dropout_rate=0.1, return_sequences=False,\n",
    "            activation='relu', kernel_initializer='he_normal', use_batch_norm=False, use_layer_norm=False,\n",
    "            use_weight_norm=True, name='TCN')(input_layer)\n",
    "x = Dense(nb_bins)(x)\n",
    "x = Activation('softmax')(x)\n",
    "output_layer = x\n",
    "model = Model(input_layer, output_layer)"
   ]
  },
  {
   "cell_type": "code",
   "execution_count": 25,
   "metadata": {},
   "outputs": [],
   "source": [
    "opt = Adam(learning_rate=0.0001)\n",
    "model.compile(loss='sparse_categorical_crossentropy', optimizer=opt, metrics=['accuracy'])"
   ]
  },
  {
   "cell_type": "code",
   "execution_count": 26,
   "metadata": {
    "scrolled": true
   },
   "outputs": [
    {
     "name": "stdout",
     "output_type": "stream",
     "text": [
      "Model: \"functional_1\"\n",
      "_________________________________________________________________\n",
      "Layer (type)                 Output Shape              Param #   \n",
      "=================================================================\n",
      "input_1 (InputLayer)         [(None, 20, 3)]           0         \n",
      "_________________________________________________________________\n",
      "TCN (TCN)                    (None, 20)                27572     \n",
      "_________________________________________________________________\n",
      "dense (Dense)                (None, 20)                420       \n",
      "_________________________________________________________________\n",
      "activation (Activation)      (None, 20)                0         \n",
      "=================================================================\n",
      "Total params: 27,992\n",
      "Trainable params: 14,360\n",
      "Non-trainable params: 13,632\n",
      "_________________________________________________________________\n"
     ]
    }
   ],
   "source": [
    "model.summary()"
   ]
  },
  {
   "cell_type": "code",
   "execution_count": 27,
   "metadata": {
    "scrolled": true
   },
   "outputs": [
    {
     "name": "stdout",
     "output_type": "stream",
     "text": [
      "Epoch 1/50\n",
      "3702/3702 - 44s - loss: 0.3987 - accuracy: 0.8304 - val_loss: 0.3463 - val_accuracy: 0.8650\n",
      "Epoch 2/50\n",
      "3702/3702 - 42s - loss: 0.3877 - accuracy: 0.8361 - val_loss: 0.3694 - val_accuracy: 0.8456\n",
      "Epoch 3/50\n",
      "3702/3702 - 46s - loss: 0.3835 - accuracy: 0.8381 - val_loss: 0.3884 - val_accuracy: 0.8394\n",
      "Epoch 4/50\n",
      "3702/3702 - 51s - loss: 0.3765 - accuracy: 0.8408 - val_loss: 0.3816 - val_accuracy: 0.8388\n",
      "Epoch 5/50\n",
      "3702/3702 - 47s - loss: 0.3731 - accuracy: 0.8427 - val_loss: 0.4166 - val_accuracy: 0.8170\n",
      "Epoch 6/50\n",
      "3702/3702 - 45s - loss: 0.3697 - accuracy: 0.8440 - val_loss: 0.4422 - val_accuracy: 0.8064\n",
      "Epoch 7/50\n",
      "3702/3702 - 45s - loss: 0.3691 - accuracy: 0.8433 - val_loss: 0.3715 - val_accuracy: 0.8402\n",
      "Epoch 8/50\n",
      "3702/3702 - 49s - loss: 0.3632 - accuracy: 0.8468 - val_loss: 0.4200 - val_accuracy: 0.8180\n",
      "Epoch 9/50\n",
      "3702/3702 - 45s - loss: 0.3633 - accuracy: 0.8465 - val_loss: 0.4428 - val_accuracy: 0.8039\n",
      "Epoch 10/50\n",
      "3702/3702 - 45s - loss: 0.3613 - accuracy: 0.8474 - val_loss: 0.4259 - val_accuracy: 0.8134\n",
      "Epoch 11/50\n",
      "3702/3702 - 51s - loss: 0.3631 - accuracy: 0.8466 - val_loss: 0.4602 - val_accuracy: 0.7976\n",
      "Epoch 12/50\n",
      "3702/3702 - 47s - loss: 0.3590 - accuracy: 0.8477 - val_loss: 0.5025 - val_accuracy: 0.7819\n",
      "Epoch 13/50\n",
      "3702/3702 - 61s - loss: 0.3573 - accuracy: 0.8488 - val_loss: 0.4862 - val_accuracy: 0.7902\n",
      "Epoch 14/50\n",
      "3702/3702 - 59s - loss: 0.3600 - accuracy: 0.8482 - val_loss: 0.4189 - val_accuracy: 0.8139\n",
      "Epoch 15/50\n",
      "3702/3702 - 56s - loss: 0.3562 - accuracy: 0.8489 - val_loss: 0.4484 - val_accuracy: 0.8007\n",
      "Epoch 16/50\n",
      "3702/3702 - 57s - loss: 0.3572 - accuracy: 0.8476 - val_loss: 0.4096 - val_accuracy: 0.8201\n",
      "Epoch 17/50\n",
      "3702/3702 - 53s - loss: 0.3556 - accuracy: 0.8491 - val_loss: 0.5627 - val_accuracy: 0.7733\n",
      "Epoch 18/50\n",
      "3702/3702 - 54s - loss: 0.3537 - accuracy: 0.8516 - val_loss: 0.5133 - val_accuracy: 0.7856\n",
      "Epoch 19/50\n",
      "3702/3702 - 54s - loss: 0.3556 - accuracy: 0.8504 - val_loss: 0.5329 - val_accuracy: 0.7771\n",
      "Epoch 20/50\n",
      "3702/3702 - 60s - loss: 0.3520 - accuracy: 0.8517 - val_loss: 0.4708 - val_accuracy: 0.7978\n",
      "Epoch 21/50\n",
      "3702/3702 - 58s - loss: 0.3516 - accuracy: 0.8517 - val_loss: 0.4589 - val_accuracy: 0.8046\n",
      "Epoch 22/50\n",
      "3702/3702 - 53s - loss: 0.3528 - accuracy: 0.8505 - val_loss: 0.4416 - val_accuracy: 0.8096\n",
      "Epoch 23/50\n",
      "3702/3702 - 55s - loss: 0.3560 - accuracy: 0.8503 - val_loss: 0.5314 - val_accuracy: 0.7752\n",
      "Epoch 24/50\n",
      "3702/3702 - 60s - loss: 0.3498 - accuracy: 0.8519 - val_loss: 0.4738 - val_accuracy: 0.7957\n",
      "Epoch 25/50\n",
      "3702/3702 - 71s - loss: 0.3465 - accuracy: 0.8524 - val_loss: 0.4672 - val_accuracy: 0.8025\n",
      "Epoch 26/50\n",
      "3702/3702 - 72s - loss: 0.3460 - accuracy: 0.8538 - val_loss: 0.4398 - val_accuracy: 0.8067\n",
      "Epoch 27/50\n",
      "3702/3702 - 57s - loss: 0.3501 - accuracy: 0.8520 - val_loss: 0.4391 - val_accuracy: 0.8073\n",
      "Epoch 28/50\n",
      "3702/3702 - 48s - loss: 0.3451 - accuracy: 0.8524 - val_loss: 0.4122 - val_accuracy: 0.8184\n",
      "Epoch 29/50\n",
      "3702/3702 - 50s - loss: 0.3458 - accuracy: 0.8537 - val_loss: 0.4225 - val_accuracy: 0.8170\n",
      "Epoch 30/50\n",
      "3702/3702 - 48s - loss: 0.3469 - accuracy: 0.8528 - val_loss: 0.4960 - val_accuracy: 0.7901\n",
      "Epoch 31/50\n",
      "3702/3702 - 47s - loss: 0.3442 - accuracy: 0.8550 - val_loss: 0.5135 - val_accuracy: 0.7896\n",
      "Epoch 32/50\n",
      "3702/3702 - 48s - loss: 0.3432 - accuracy: 0.8539 - val_loss: 0.5008 - val_accuracy: 0.7922\n",
      "Epoch 33/50\n",
      "3702/3702 - 59s - loss: 0.3413 - accuracy: 0.8546 - val_loss: 0.3995 - val_accuracy: 0.8308\n",
      "Epoch 34/50\n",
      "3702/3702 - 53s - loss: 0.3443 - accuracy: 0.8530 - val_loss: 0.5374 - val_accuracy: 0.7805\n",
      "Epoch 35/50\n",
      "3702/3702 - 50s - loss: 0.3424 - accuracy: 0.8551 - val_loss: 0.4089 - val_accuracy: 0.8181\n",
      "Epoch 36/50\n",
      "3702/3702 - 55s - loss: 0.3406 - accuracy: 0.8558 - val_loss: 0.4363 - val_accuracy: 0.8132\n",
      "Epoch 37/50\n",
      "3702/3702 - 48s - loss: 0.3410 - accuracy: 0.8557 - val_loss: 0.3880 - val_accuracy: 0.8283\n",
      "Epoch 38/50\n",
      "3702/3702 - 45s - loss: 0.3394 - accuracy: 0.8553 - val_loss: 0.4201 - val_accuracy: 0.8159\n",
      "Epoch 39/50\n",
      "3702/3702 - 48s - loss: 0.3404 - accuracy: 0.8549 - val_loss: 0.4208 - val_accuracy: 0.8169\n",
      "Epoch 40/50\n",
      "3702/3702 - 47s - loss: 0.3397 - accuracy: 0.8562 - val_loss: 0.4706 - val_accuracy: 0.8014\n",
      "Epoch 41/50\n",
      "3702/3702 - 50s - loss: 0.3393 - accuracy: 0.8549 - val_loss: 0.4994 - val_accuracy: 0.7901\n",
      "Epoch 42/50\n",
      "3702/3702 - 54s - loss: 0.3393 - accuracy: 0.8567 - val_loss: 0.3937 - val_accuracy: 0.8242\n",
      "Epoch 43/50\n",
      "3702/3702 - 49s - loss: 0.3403 - accuracy: 0.8559 - val_loss: 0.4659 - val_accuracy: 0.8012\n",
      "Epoch 44/50\n",
      "3702/3702 - 57s - loss: 0.3364 - accuracy: 0.8572 - val_loss: 0.4285 - val_accuracy: 0.8157\n",
      "Epoch 45/50\n",
      "3702/3702 - 58s - loss: 0.3365 - accuracy: 0.8578 - val_loss: 0.3424 - val_accuracy: 0.8471\n",
      "Epoch 46/50\n",
      "3702/3702 - 59s - loss: 0.3380 - accuracy: 0.8561 - val_loss: 0.4996 - val_accuracy: 0.7945\n",
      "Epoch 47/50\n",
      "3702/3702 - 56s - loss: 0.3352 - accuracy: 0.8573 - val_loss: 0.5237 - val_accuracy: 0.7852\n",
      "Epoch 48/50\n",
      "3702/3702 - 47s - loss: 0.3373 - accuracy: 0.8556 - val_loss: 0.4565 - val_accuracy: 0.8096\n",
      "Epoch 49/50\n",
      "3702/3702 - 46s - loss: 0.3345 - accuracy: 0.8568 - val_loss: 0.4997 - val_accuracy: 0.7988\n",
      "Epoch 50/50\n",
      "3702/3702 - 48s - loss: 0.3358 - accuracy: 0.8567 - val_loss: 0.5985 - val_accuracy: 0.7716\n"
     ]
    }
   ],
   "source": [
    "dateTimeObj = datetime.now()\n",
    "timestampStr = dateTimeObj.strftime(\"%d%m%Y%H%M%S\")\n",
    "\n",
    "model_path = 'models/PIR_CNN_Model3_5_' + timestampStr\n",
    "\n",
    "# get model as json string and save to file\n",
    "model_as_json = model.to_json()\n",
    "with open(model_path + '.json', \"w\") as json_file:\n",
    "    json_file.write(model_as_json)\n",
    "\n",
    "# save initial weights\n",
    "model.save_weights(model_path + '_weights.h5')\n",
    "\n",
    "es = keras.callbacks.EarlyStopping(monitor='accuracy', min_delta=0, patience=50, verbose=0, mode='max')\n",
    "mc = keras.callbacks.ModelCheckpoint(model_path + '_weights_epoch_{epoch}.h5', monitor='accuracy', mode='max', \n",
    "                                     save_weights_only=True, save_best_only=False)\n",
    "\n",
    "history = model.fit(dbX, dbY, epochs=50, batch_size=32,\n",
    "        validation_data=(dbX_val, dbY_val), verbose=2, callbacks = [es,mc])\n",
    "\n",
    "# save learning history\n",
    "np.save(model_path + '_history.npy', history.history)"
   ]
  },
  {
   "cell_type": "code",
   "execution_count": 28,
   "metadata": {
    "scrolled": true
   },
   "outputs": [
    {
     "name": "stdout",
     "output_type": "stream",
     "text": [
      "374/374 [==============================] - 1s 4ms/step - loss: 0.5985 - accuracy: 0.7716\n"
     ]
    },
    {
     "data": {
      "text/plain": [
       "[0.5985013246536255, 0.7715506553649902]"
      ]
     },
     "execution_count": 28,
     "metadata": {},
     "output_type": "execute_result"
    }
   ],
   "source": [
    "model.evaluate(dbX_val, dbY_val)"
   ]
  },
  {
   "cell_type": "code",
   "execution_count": 29,
   "metadata": {},
   "outputs": [
    {
     "data": {
      "image/png": "[encoded data removed]",
      "text/plain": [
       "<Figure size 432x288 with 1 Axes>"
      ]
     },
     "metadata": {
      "needs_background": "light"
     },
     "output_type": "display_data"
    },
    {
     "data": {
      "image/png": "[encoded data removed]",
      "text/plain": [
       "<Figure size 432x288 with 1 Axes>"
      ]
     },
     "metadata": {
      "needs_background": "light"
     },
     "output_type": "display_data"
    }
   ],
   "source": [
    "# Load history\n",
    "#history.history = np.load('models/PIR_CNN_Model3_5_history_03052021151357.npy', allow_pickle=True).item()\n",
    "\n",
    "# summarize history for accuracy\n",
    "plt.plot(history.history['accuracy'])\n",
    "plt.plot(history.history['val_accuracy'])\n",
    "plt.title('model accuracy')\n",
    "plt.ylabel('accuracy')\n",
    "plt.xlabel('epoch')\n",
    "plt.legend(['train', 'test'], loc='upper left')\n",
    "plt.show()\n",
    "# summarize history for loss\n",
    "plt.plot(history.history['loss'])\n",
    "plt.plot(history.history['val_loss'])\n",
    "plt.title('model loss')\n",
    "plt.ylabel('loss')\n",
    "plt.xlabel('epoch')\n",
    "plt.legend(['train', 'test'], loc='upper left')\n",
    "plt.show()"
   ]
  },
  {
   "cell_type": "code",
   "execution_count": 30,
   "metadata": {},
   "outputs": [
    {
     "name": "stdout",
     "output_type": "stream",
     "text": [
      "Minimum val_loss: 0.34241172671318054\n",
      "Maximum val_accuracy: 0.8649576902389526\n"
     ]
    }
   ],
   "source": [
    "print('Minimum val_loss: ' + str(np.min(history.history['val_loss'])))\n",
    "print('Maximum val_accuracy: ' + str(np.max(history.history['val_accuracy'])))"
   ]
  },
  {
   "cell_type": "code",
   "execution_count": null,
   "metadata": {},
   "outputs": [],
   "source": []
  }
 ],
 "metadata": {
  "kernelspec": {
   "display_name": "Python 3",
   "language": "python",
   "name": "python3"
  },
  "language_info": {
   "codemirror_mode": {
    "name": "ipython",
    "version": 3
   },
   "file_extension": ".py",
   "mimetype": "text/x-python",
   "name": "python",
   "nbconvert_exporter": "python",
   "pygments_lexer": "ipython3",
   "version": "3.8.8"
  },
  "toc": {
   "base_numbering": 1,
   "nav_menu": {},
   "number_sections": true,
   "sideBar": true,
   "skip_h1_title": false,
   "title_cell": "Table of Contents",
   "title_sidebar": "Contents",
   "toc_cell": false,
   "toc_position": {},
   "toc_section_display": true,
   "toc_window_display": false
  }
 },
 "nbformat": 4,
 "nbformat_minor": 4
}